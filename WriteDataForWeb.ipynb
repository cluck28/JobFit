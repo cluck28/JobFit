{
 "cells": [
  {
   "cell_type": "markdown",
   "metadata": {},
   "source": [
    "<h1>Write Data</h1>\n",
    "I just want to write data into SQL databases for fast recall in my web application. Slow down should only occur during the scraping step and I think that is unavoidable (at the moment). The main transformation that happens in this script is taking the skills scores and the work activities scores and transforming them into a martix where each row is a job title and each column is a skill (or work activity)."
   ]
  },
  {
   "cell_type": "code",
   "execution_count": 1,
   "metadata": {
    "collapsed": true
   },
   "outputs": [],
   "source": [
    "#Import modules\n",
    "import pandas as pd\n",
    "import numpy\n",
    "from sqlalchemy import create_engine\n",
    "from sqlalchemy_utils import database_exists, create_database\n",
    "import psycopg2\n",
    "\n",
    "\n",
    "#Load ONet Data\n",
    "df_Skills = pd.read_excel('/Users/christopherluciuk/Desktop/Insight/JobsData/db_22_1_excel/Skills.xlsx')\n",
    "df_AltTitles = pd.read_excel('/Users/christopherluciuk/Desktop/Insight/JobsData/db_22_1_excel/Alternate Titles.xlsx')\n",
    "df_WorkAct = pd.read_excel('/Users/christopherluciuk/Desktop/Insight/JobsData/db_22_1_excel/Work Activities.xlsx')\n",
    "df_DWARef = pd.read_excel('/Users/christopherluciuk/Desktop/Insight/JobsData/db_22_1_excel/DWA Reference.xlsx')\n",
    "df_IWA = pd.read_excel('/Users/christopherluciuk/Desktop/Insight/JobsData/db_22_1_excel/DWA Reference.xlsx')"
   ]
  },
  {
   "cell_type": "code",
   "execution_count": 2,
   "metadata": {
    "collapsed": true
   },
   "outputs": [],
   "source": [
    "#Build matrix for analysis\n",
    "jobsList = df_Skills['Title'].unique()\n",
    "skillsList = df_Skills['Element Name'].unique()\n",
    "#Make a matrix for the scores\n",
    "skillsMat = numpy.zeros((len(jobsList),len(skillsList)))\n",
    "for i in range(len(jobsList)):\n",
    "    for j in range(len(skillsList)):\n",
    "        skillsMat[i,j] = df_Skills[(df_Skills['Title']==jobsList[i]) & (df_Skills['Element Name']==skillsList[j]) & (df_Skills['Scale ID']=='IM')]['Data Value']\n",
    "        \n",
    "#Make a matrix of the scores        \n",
    "actsList = df_WorkAct['Element Name'].unique()\n",
    "actsMat = numpy.zeros((len(jobsList),len(actsList)))\n",
    "outList = []\n",
    "for i in range(len(jobsList)):\n",
    "    for j in range(len(actsList)):\n",
    "        actsMat[i,j] = df_WorkAct[(df_WorkAct['Title']==jobsList[i]) & (df_WorkAct['Element Name']==actsList[j]) & (df_WorkAct['Scale ID']=='IM')]['Data Value']       "
   ]
  },
  {
   "cell_type": "code",
   "execution_count": 7,
   "metadata": {},
   "outputs": [
    {
     "name": "stdout",
     "output_type": "stream",
     "text": [
      "postgres://christopherluciuk@localhost/ONET_db_v2\n",
      "True\n"
     ]
    },
    {
     "data": {
      "text/html": [
       "<div>\n",
       "<style>\n",
       "    .dataframe thead tr:only-child th {\n",
       "        text-align: right;\n",
       "    }\n",
       "\n",
       "    .dataframe thead th {\n",
       "        text-align: left;\n",
       "    }\n",
       "\n",
       "    .dataframe tbody tr th {\n",
       "        vertical-align: top;\n",
       "    }\n",
       "</style>\n",
       "<table border=\"1\" class=\"dataframe\">\n",
       "  <thead>\n",
       "    <tr style=\"text-align: right;\">\n",
       "      <th></th>\n",
       "      <th>O*NET-SOC Code</th>\n",
       "      <th>Title</th>\n",
       "      <th>Alternate Title</th>\n",
       "      <th>Short Title</th>\n",
       "      <th>Source(s)</th>\n",
       "    </tr>\n",
       "  </thead>\n",
       "  <tbody>\n",
       "    <tr>\n",
       "      <th>0</th>\n",
       "      <td>11-1011.00</td>\n",
       "      <td>Chief Executives</td>\n",
       "      <td>Aeronautics Commission Director</td>\n",
       "      <td>NaN</td>\n",
       "      <td>08</td>\n",
       "    </tr>\n",
       "    <tr>\n",
       "      <th>1</th>\n",
       "      <td>11-1011.00</td>\n",
       "      <td>Chief Executives</td>\n",
       "      <td>Agricultural Services Director</td>\n",
       "      <td>NaN</td>\n",
       "      <td>08</td>\n",
       "    </tr>\n",
       "    <tr>\n",
       "      <th>2</th>\n",
       "      <td>11-1011.00</td>\n",
       "      <td>Chief Executives</td>\n",
       "      <td>Alcohol and Drug Abuse Assistance Program Admi...</td>\n",
       "      <td>NaN</td>\n",
       "      <td>08</td>\n",
       "    </tr>\n",
       "    <tr>\n",
       "      <th>3</th>\n",
       "      <td>11-1011.00</td>\n",
       "      <td>Chief Executives</td>\n",
       "      <td>Arts and Humanities Council Director</td>\n",
       "      <td>NaN</td>\n",
       "      <td>08</td>\n",
       "    </tr>\n",
       "    <tr>\n",
       "      <th>4</th>\n",
       "      <td>11-1011.00</td>\n",
       "      <td>Chief Executives</td>\n",
       "      <td>Bakery Manager</td>\n",
       "      <td>NaN</td>\n",
       "      <td>08</td>\n",
       "    </tr>\n",
       "  </tbody>\n",
       "</table>\n",
       "</div>"
      ],
      "text/plain": [
       "  O*NET-SOC Code             Title  \\\n",
       "0     11-1011.00  Chief Executives   \n",
       "1     11-1011.00  Chief Executives   \n",
       "2     11-1011.00  Chief Executives   \n",
       "3     11-1011.00  Chief Executives   \n",
       "4     11-1011.00  Chief Executives   \n",
       "\n",
       "                                     Alternate Title Short Title Source(s)  \n",
       "0                    Aeronautics Commission Director         NaN        08  \n",
       "1                     Agricultural Services Director         NaN        08  \n",
       "2  Alcohol and Drug Abuse Assistance Program Admi...         NaN        08  \n",
       "3               Arts and Humanities Council Director         NaN        08  \n",
       "4                                     Bakery Manager         NaN        08  "
      ]
     },
     "metadata": {},
     "output_type": "display_data"
    }
   ],
   "source": [
    "#Create dataframe with desired info\n",
    "df_write_skills = pd.DataFrame(skillsMat,columns=skillsList)\n",
    "df_write_skills['title'] = jobsList\n",
    "df_write_acts = pd.DataFrame(actsMat,columns=actsList)\n",
    "df_write_acts['title'] = jobsList\n",
    "\n",
    "#Write to database\n",
    "#Create or load database\n",
    "dbname = 'ONET_db_v2'\n",
    "username = 'christopherluciuk' # change this to your username\n",
    "## 'engine' is a connection to a database\n",
    "## Here, we're using postgres, but sqlalchemy can connect to other things too.\n",
    "engine = create_engine('postgres://%s@localhost/%s'%(username,dbname))\n",
    "print(engine.url)\n",
    "## create a database (if it doesn't exist)\n",
    "if not database_exists(engine.url):\n",
    "    create_database(engine.url)\n",
    "print(database_exists(engine.url))\n",
    "\n",
    "#Write to tables\n",
    "df_write_skills.to_sql('skills_table',engine,if_exists='replace')\n",
    "df_write_acts.to_sql('acts_table',engine,if_exists='replace')\n",
    "df_IWA.to_sql('iwa_table',engine,if_exists='replace')\n",
    "df_DWARef.to_sql('dwa_table',engine,if_exists='replace')\n",
    "df_AltTitles[['O*NET-SOC Code','Title','Alternate Title']].to_sql('alttitles_table',engine,if_exists='replace')"
   ]
  }
 ],
 "metadata": {
  "kernelspec": {
   "display_name": "Python 3",
   "language": "python",
   "name": "python3"
  },
  "language_info": {
   "codemirror_mode": {
    "name": "ipython",
    "version": 3
   },
   "file_extension": ".py",
   "mimetype": "text/x-python",
   "name": "python",
   "nbconvert_exporter": "python",
   "pygments_lexer": "ipython3",
   "version": "3.6.3"
  }
 },
 "nbformat": 4,
 "nbformat_minor": 2
}
