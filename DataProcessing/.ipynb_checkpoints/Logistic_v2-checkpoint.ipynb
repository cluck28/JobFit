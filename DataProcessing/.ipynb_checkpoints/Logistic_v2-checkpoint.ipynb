{
 "cells": [
  {
   "cell_type": "markdown",
   "metadata": {},
   "source": [
    "<h1>Read in my data and train a model</h1>"
   ]
  },
  {
   "cell_type": "code",
   "execution_count": 8,
   "metadata": {},
   "outputs": [
    {
     "name": "stdout",
     "output_type": "stream",
     "text": [
      "postgres://christopherluciuk@localhost/indeed_resumes_v1\n",
      "True\n"
     ]
    }
   ],
   "source": [
    "#Import libraries\n",
    "import urllib\n",
    "from bs4 import BeautifulSoup\n",
    "from selenium  import webdriver\n",
    "import csv\n",
    "import datetime\n",
    "import re\n",
    "from sqlalchemy import create_engine\n",
    "from sqlalchemy_utils import database_exists, create_database\n",
    "import psycopg2\n",
    "import pandas as pd\n",
    "import numpy as np\n",
    "import time\n",
    "import itertools\n",
    "from sklearn import utils\n",
    "\n",
    "#Create or load database\n",
    "# Define a database name\n",
    "# Set your postgres username\n",
    "dbname = 'indeed_resumes_v1'\n",
    "username = 'christopherluciuk' # change this to your username\n",
    "## 'engine' is a connection to a database\n",
    "## Here, we're using postgres, but sqlalchemy can connect to other things too.\n",
    "engine = create_engine('postgres://%s@localhost/%s'%(username,dbname))\n",
    "print(engine.url)\n",
    "## create a database (if it doesn't exist)\n",
    "if not database_exists(engine.url):\n",
    "    create_database(engine.url)\n",
    "print(database_exists(engine.url))\n",
    "\n",
    "con = None\n",
    "con = psycopg2.connect(database = dbname, user = username)\n",
    "sql_query = '''SELECT * FROM data_table;'''\n",
    "data_out = pd.read_sql_query(sql_query,con)\n",
    "con.close()\n",
    "\n",
    "#I need to do something to project these job pairs into the job title categories\n",
    "df_Skills = pd.read_excel('/Users/christopherluciuk/Desktop/Insight/JobsData/db_22_1_excel/Skills.xlsx')\n",
    "df_AltTitles = pd.read_excel('/Users/christopherluciuk/Desktop/Insight/JobsData/db_22_1_excel/Alternate Titles.xlsx')"
   ]
  },
  {
   "cell_type": "code",
   "execution_count": 12,
   "metadata": {
    "collapsed": true
   },
   "outputs": [],
   "source": [
    "def load_data(df_Skills,df_AltTitles,job_trans):\n",
    "    '''\n",
    "    This function goes through my dataframe of job transitions found in resumes \n",
    "    and checks to see if they are pairs of titles in the ONET database.\n",
    "    Returns a list of all the pairs that occur in ONET\n",
    "    '''\n",
    "    jobsListalt = df_Skills['O*NET-SOC Code'].unique()\n",
    "    jobs_dict = {}\n",
    "    for i in range(len(jobsListalt)):\n",
    "        jobs_dict[jobsListalt[i]] = i\n",
    "    transitions_list = []\n",
    "    tuple_list = []\n",
    "    for index, row in job_trans.iterrows():\n",
    "        job_cat1 = df_AltTitles[df_AltTitles['Alternate Title']==row['title1']]['Title'].values\n",
    "        job_cat2 = df_AltTitles[df_AltTitles['Alternate Title']==row['title2']]['Title'].values\n",
    "        SOC1 = df_AltTitles[df_AltTitles['Alternate Title']==row['title1']]['O*NET-SOC Code'].values\n",
    "        SOC2 = df_AltTitles[df_AltTitles['Alternate Title']==row['title2']]['O*NET-SOC Code'].values\n",
    "        i = 0\n",
    "        for item1 in job_cat1:\n",
    "            j = 0\n",
    "            for item2 in job_cat2:\n",
    "                try:\n",
    "                    if jobs_dict[SOC1[i]] == jobs_dict[SOC2[j]]:\n",
    "                        pass\n",
    "                    else:\n",
    "                        transitions_list.append((item1,jobs_dict[SOC1[i]],item2,jobs_dict[SOC2[j]]))\n",
    "                        tuple_list.append((jobs_dict[SOC1[i]],jobs_dict[SOC2[j]]))\n",
    "                except KeyError:\n",
    "                    pass\n",
    "                j += 1\n",
    "            i += 1\n",
    "    return transitions_list, tuple_list\n",
    "\n",
    "def build_skills_mat(df_Skills):\n",
    "    '''\n",
    "    Creates a matrix of skill scores\n",
    "    '''\n",
    "    #Build skills matrix\n",
    "    jobsList = df_Skills['Title'].unique()\n",
    "    skillsList = df_Skills['Element Name'].unique()\n",
    "    #Make a matrix for the scores\n",
    "    skillsMat = np.zeros((len(jobsList),len(skillsList)))\n",
    "    for i in range(len(jobsList)):\n",
    "        for j in range(len(skillsList)):\n",
    "            skillsMat[i,j] = df_Skills[(df_Skills['Title']==jobsList[i]) & (df_Skills['Element Name']==skillsList[j]) & (df_Skills['Scale ID']=='IM')]['Data Value']\n",
    "    return skillsMat  \n",
    "    \n",
    "def remove_doubles(items):\n",
    "    '''\n",
    "    Remove duplicate job transitions\n",
    "    '''\n",
    "    return list(set(items))\n",
    "\n",
    "def generate_all_transitions(transitions_made,skillsMat):\n",
    "    '''\n",
    "    Create a list of all transitions in ONET from the pairwise permutations\n",
    "    '''\n",
    "    possible_transitions = list(itertools.permutations(range(len(skillsMat)),2)) #Not sure about slice\n",
    "    out_set = []\n",
    "    for item in possible_transitions:\n",
    "        if item not in transitions_made:\n",
    "            out_set.append(item)\n",
    "    return out_set\n",
    "\n",
    "def label_transitions(skillsMat,transitions,label):\n",
    "    '''\n",
    "    Generate class labels for all of ONET database\n",
    "    '''\n",
    "    out_class = np.zeros((len(transitions),len(skillsMat[0,:]))) #Not sure about slice\n",
    "    out_class_target = np.zeros(len(transitions))\n",
    "    i = 0\n",
    "    for item in transitions:\n",
    "        distance = skillsMat[item[0]]-skillsMat[item[1]]\n",
    "        for j in range(len(distance)):\n",
    "            dist = max(0,distance[j])\n",
    "            distance[j] = dist\n",
    "        out_class[i] = distance\n",
    "        out_class_target[i] = label\n",
    "        i += 1\n",
    "    return out_class, out_class_target\n",
    "        \n",
    "def split_test_train(pos_class,pos_class_target,neg_class,neg_class_target,frac):\n",
    "    '''\n",
    "    Train test split preserving stratification\n",
    "    '''\n",
    "    train_pos, train_pos_target = utils.resample(pos_class,pos_class_target,replace=False,n_samples=int(frac*len(pos_class)))\n",
    "    test_pos, test_pos_target = utils.resample(pos_class,pos_class_target,replace=False,n_samples=int((1-frac)*len(pos_class)))\n",
    "    train_neg, train_neg_target = utils.resample(neg_class,neg_class_target,replace=False,n_samples=int(frac*len(neg_class)))\n",
    "    test_neg, test_neg_target = utils.resample(neg_class,neg_class_target,replace=False,n_samples=int((1-frac)*len(neg_class)))\n",
    "    train = np.concatenate((np.asarray(train_pos),np.asarray(train_neg)))\n",
    "    train_target = np.concatenate((np.asarray(train_pos_target),np.asarray(train_neg_target)))\n",
    "    test = np.concatenate((np.asarray(test_pos),np.asarray(test_neg)))\n",
    "    test_target = np.concatenate((np.asarray(test_pos_target),np.asarray(test_neg_target)))\n",
    "    return train,train_target,test,test_target"
   ]
  },
  {
   "cell_type": "code",
   "execution_count": 13,
   "metadata": {
    "collapsed": true
   },
   "outputs": [],
   "source": [
    "#Run the function to get training data and test data\n",
    "skillsMat = build_skills_mat(df_Skills)\n",
    "trans_list, tuple_list = load_data(df_Skills,df_AltTitles,data_out)\n",
    "#tuple_list = remove_doubles(tuple_list)\n",
    "out_list = generate_all_transitions(tuple_list,skillsMat)\n",
    "pos_class,pos_class_target = label_transitions(skillsMat,tuple_list,1)\n",
    "neg_class,neg_class_target = label_transitions(skillsMat,out_list,0)\n",
    "train,train_target,test,test_target = split_test_train(pos_class,pos_class_target,neg_class,neg_class_target,0.5)"
   ]
  },
  {
   "cell_type": "code",
   "execution_count": 22,
   "metadata": {},
   "outputs": [
    {
     "name": "stderr",
     "output_type": "stream",
     "text": [
      "Optimization Progress:  52%|█████▎    | 63/120 [3:23:32<1:53:00, 118.96s/pipeline] "
     ]
    },
    {
     "name": "stdout",
     "output_type": "stream",
     "text": [
      "Generation 1 - Current best internal CV score: 0.7698228162680858\n"
     ]
    },
    {
     "name": "stderr",
     "output_type": "stream",
     "text": [
      "Optimization Progress:  75%|███████▌  | 90/120 [4:38:14<54:14, 108.49s/pipeline]  "
     ]
    },
    {
     "name": "stdout",
     "output_type": "stream",
     "text": [
      "Generation 2 - Current best internal CV score: 0.7698228162680858\n"
     ]
    },
    {
     "name": "stderr",
     "output_type": "stream",
     "text": [
      "Optimization Progress:  93%|█████████▎| 112/120 [5:20:25<14:08, 106.06s/pipeline] "
     ]
    },
    {
     "name": "stdout",
     "output_type": "stream",
     "text": [
      "Generation 3 - Current best internal CV score: 0.7888040524640532\n"
     ]
    },
    {
     "name": "stderr",
     "output_type": "stream",
     "text": [
      "Optimization Progress: 137pipeline [7:01:47, 187.74s/pipeline]                   "
     ]
    },
    {
     "name": "stdout",
     "output_type": "stream",
     "text": [
      "Generation 4 - Current best internal CV score: 0.7888040524640532\n"
     ]
    },
    {
     "name": "stderr",
     "output_type": "stream",
     "text": [
      "                                                              \r"
     ]
    },
    {
     "name": "stdout",
     "output_type": "stream",
     "text": [
      "Generation 5 - Current best internal CV score: 0.7888040875762371\n",
      "\n",
      "Best pipeline: GradientBoostingClassifier(RobustScaler(input_matrix), learning_rate=0.5, max_depth=4, max_features=0.05, min_samples_leaf=18, min_samples_split=18, n_estimators=100, subsample=0.5)\n",
      "0.799998780482\n"
     ]
    },
    {
     "data": {
      "text/plain": [
       "True"
      ]
     },
     "execution_count": 22,
     "metadata": {},
     "output_type": "execute_result"
    }
   ],
   "source": [
    "#Run through tpot\n",
    "from tpot import TPOTClassifier\n",
    "\n",
    "tpot = TPOTClassifier(scoring='roc_auc',generations=5, population_size=20, verbosity=2)\n",
    "tpot.fit(train, train_target)\n",
    "print(tpot.score(test, test_target))\n",
    "tpot.export('tpot_data_pipeline.py')"
   ]
  },
  {
   "cell_type": "code",
   "execution_count": 39,
   "metadata": {
    "collapsed": true
   },
   "outputs": [],
   "source": [
    "from sklearn.ensemble import GradientBoostingClassifier\n",
    "from sklearn.model_selection import train_test_split\n",
    "from sklearn.pipeline import make_pipeline\n",
    "from sklearn.preprocessing import RobustScaler\n",
    "\n",
    "exported_pipeline = make_pipeline(\n",
    "    RobustScaler(),\n",
    "    GradientBoostingClassifier(learning_rate=0.5, max_depth=4, max_features=0.05, min_samples_leaf=18, min_samples_split=18, n_estimators=100, subsample=0.5)\n",
    ")\n",
    "\n",
    "exported_pipeline.fit(train, train_target)\n",
    "results = exported_pipeline.predict_proba(test)\n",
    "forest = ensemble.RandomForestClassifier(n_estimators=10,bootstrap=True,criterion='gini',max_depth=3,max_features=1,min_samples_leaf=1,min_samples_split=2)\n",
    "forest_results = forest.fit(train,train_target)\n",
    "target_prob_forest = forest_results.predict_proba(test)[:,1]\n",
    "fpr_forest, tpr_forest, _ = metrics.roc_curve(test_target, target_prob_forest)\n",
    "logistic = linear_model.LogisticRegression()\n",
    "results_log = logistic.fit(train,train_target)\n",
    "target_prob = results_log.predict_proba(test)[:,1]\n",
    "fpr_log, tpr_log, _ = metrics.roc_curve(test_target, target_prob)"
   ]
  },
  {
   "cell_type": "code",
   "execution_count": 41,
   "metadata": {},
   "outputs": [
    {
     "name": "stdout",
     "output_type": "stream",
     "text": [
      "0.806694778308\n"
     ]
    },
    {
     "data": {
      "image/png": "[encoded data removed]",
      "text/plain": [
       "<matplotlib.figure.Figure at 0x10ca4f8d0>"
      ]
     },
     "metadata": {},
     "output_type": "display_data"
    },
    {
     "name": "stdout",
     "output_type": "stream",
     "text": [
      "[[206078 253423]\n",
      " [   963   9259]]\n"
     ]
    }
   ],
   "source": [
    "from sklearn import linear_model, metrics, ensemble, svm\n",
    "import matplotlib.pyplot as plt\n",
    "fpr, tpr, _ = metrics.roc_curve(test_target, results[:,1])\n",
    "auc = metrics.auc(fpr,tpr)\n",
    "auc_log = metrics.auc(fpr_log,tpr_log)\n",
    "auc_forest = metrics.auc(fpr_forest,tpr_forest)\n",
    "print(auc)\n",
    "plt.plot(fpr,tpr,label='GB Decision Tree')\n",
    "plt.plot(fpr_log,tpr_log,label='Logistic Regression')\n",
    "plt.plot(fpr_forest,tpr_forest,label='Random Forest')\n",
    "plt.plot([0, 1], [0, 1], 'k--',label='Random')\n",
    "plt.title('ROC Curve')\n",
    "plt.xlabel('False positive rate')\n",
    "plt.ylabel('True positive rate')\n",
    "plt.legend(loc='lower right', shadow=True, fontsize='x-large')\n",
    "plt.show()\n",
    "results_out = []\n",
    "for result in results[:,1]:\n",
    "    if result<0.01:\n",
    "        results_out.append(0)\n",
    "    else:\n",
    "        results_out.append(1)\n",
    "print(metrics.confusion_matrix(test_target,results_out))"
   ]
  },
  {
   "cell_type": "code",
   "execution_count": null,
   "metadata": {
    "collapsed": true
   },
   "outputs": [],
   "source": []
  }
 ],
 "metadata": {
  "kernelspec": {
   "display_name": "Python 3",
   "language": "python",
   "name": "python3"
  },
  "language_info": {
   "codemirror_mode": {
    "name": "ipython",
    "version": 3
   },
   "file_extension": ".py",
   "mimetype": "text/x-python",
   "name": "python",
   "nbconvert_exporter": "python",
   "pygments_lexer": "ipython3",
   "version": "3.6.3"
  }
 },
 "nbformat": 4,
 "nbformat_minor": 2
}
